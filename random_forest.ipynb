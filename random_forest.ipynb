{
 "cells": [
  {
   "attachments": {},
   "cell_type": "markdown",
   "metadata": {},
   "source": [
    "# [title]\n"
   ]
  },
  {
   "attachments": {},
   "cell_type": "markdown",
   "metadata": {},
   "source": [
    "how to install python packages???"
   ]
  },
  {
   "attachments": {},
   "cell_type": "markdown",
   "metadata": {},
   "source": [
    "Imports:"
   ]
  },
  {
   "cell_type": "code",
   "execution_count": 26,
   "metadata": {},
   "outputs": [],
   "source": [
    "import pandas\n",
    "from sklearn.model_selection import train_test_split, cross_val_score, GridSearchCV\n",
    "from sklearn.ensemble import RandomForestRegressor"
   ]
  },
  {
   "cell_type": "code",
   "execution_count": 27,
   "metadata": {},
   "outputs": [
    {
     "name": "stdout",
     "output_type": "stream",
     "text": [
      "<class 'pandas.core.frame.DataFrame'>\n",
      "RangeIndex: 1655 entries, 0 to 1654\n",
      "Data columns (total 23 columns):\n",
      " #   Column                     Non-Null Count  Dtype  \n",
      "---  ------                     --------------  -----  \n",
      " 0   index                      1655 non-null   int64  \n",
      " 1   salary_id                  1655 non-null   int64  \n",
      " 2   employer_name              1651 non-null   object \n",
      " 3   Ticker                     564 non-null    object \n",
      " 4   location_name              1653 non-null   object \n",
      " 5   location_city              1386 non-null   object \n",
      " 6   location_state             1176 non-null   object \n",
      " 7   location_country           1582 non-null   object \n",
      " 8   location_latitude          792 non-null    float64\n",
      " 9   location_longitude         792 non-null    float64\n",
      " 10  job_title                  1655 non-null   object \n",
      " 11  job_title_category         1655 non-null   object \n",
      " 12  job_title_rank             425 non-null    object \n",
      " 13  total_experience_years     1608 non-null   float64\n",
      " 14  employer_experience_years  1608 non-null   float64\n",
      " 15  annual_base_pay            1651 non-null   float64\n",
      " 16  signing_bonus              1332 non-null   float64\n",
      " 17  annual_bonus               1336 non-null   float64\n",
      " 18  stock_value_bonus          1253 non-null   object \n",
      " 19  comments                   292 non-null    object \n",
      " 20  submitted_at               1655 non-null   object \n",
      " 21  delete?                    51 non-null     object \n",
      " 22  new_comments               269 non-null    float64\n",
      "dtypes: float64(8), int64(2), object(13)\n",
      "memory usage: 297.5+ KB\n"
     ]
    }
   ],
   "source": [
    "salaryData = pandas.read_excel(pandas.ExcelFile(\"salaries_clean.xlsx\"), 'salaries_clean')\n",
    "salaryData.info(verbose=True, max_cols=None)"
   ]
  },
  {
   "attachments": {},
   "cell_type": "markdown",
   "metadata": {},
   "source": [
    "## Pre-Processing"
   ]
  },
  {
   "cell_type": "code",
   "execution_count": 28,
   "metadata": {},
   "outputs": [
    {
     "name": "stdout",
     "output_type": "stream",
     "text": [
      "<class 'pandas.core.frame.DataFrame'>\n",
      "Int64Index: 1604 entries, 0 to 1654\n",
      "Data columns (total 12 columns):\n",
      " #   Column                     Non-Null Count  Dtype  \n",
      "---  ------                     --------------  -----  \n",
      " 0   Ticker                     560 non-null    object \n",
      " 1   location_name              1602 non-null   object \n",
      " 2   location_city              1368 non-null   object \n",
      " 3   location_state             1161 non-null   object \n",
      " 4   location_country           1561 non-null   object \n",
      " 5   total_experience_years     1561 non-null   float64\n",
      " 6   employer_experience_years  1563 non-null   float64\n",
      " 7   annual_base_pay            1604 non-null   float64\n",
      " 8   signing_bonus              1290 non-null   float64\n",
      " 9   annual_bonus               1293 non-null   float64\n",
      " 10  stock_value_bonus          1213 non-null   object \n",
      " 11  new_comments               264 non-null    float64\n",
      "dtypes: float64(6), object(6)\n",
      "memory usage: 162.9+ KB\n"
     ]
    }
   ],
   "source": [
    "salaryData = salaryData[salaryData['delete?'].isna()]\n",
    "salaryData = salaryData.drop(['delete?', 'submitted_at', 'index', 'location_longitude', 'location_latitude', 'index', 'salary_id', 'employer_name', 'job_title', 'job_title_category', 'job_title_rank', 'comments'], axis=1)\n",
    "salaryData.dropna()\n",
    "salaryData.info(verbose=True, max_cols=None)\n"
   ]
  },
  {
   "cell_type": "code",
   "execution_count": 29,
   "metadata": {},
   "outputs": [
    {
     "ename": "SyntaxError",
     "evalue": "invalid syntax (385006730.py, line 2)",
     "output_type": "error",
     "traceback": [
      "\u001b[0;36m  Cell \u001b[0;32mIn[29], line 2\u001b[0;36m\u001b[0m\n\u001b[0;31m    y =\u001b[0m\n\u001b[0m        ^\u001b[0m\n\u001b[0;31mSyntaxError\u001b[0m\u001b[0;31m:\u001b[0m invalid syntax\n"
     ]
    }
   ],
   "source": [
    "x = salaryData.drop([''])\n",
    "y = "
   ]
  },
  {
   "attachments": {},
   "cell_type": "markdown",
   "metadata": {},
   "source": [
    "## Train-test split"
   ]
  },
  {
   "cell_type": "code",
   "execution_count": null,
   "metadata": {},
   "outputs": [],
   "source": [
    "x_train, x_test, y_train, y_test = train_test_split(x,\n",
    "                                                    y, \n",
    "                                                    test_size=0.2, \n",
    "                                                    random_state=0)"
   ]
  },
  {
   "attachments": {},
   "cell_type": "markdown",
   "metadata": {},
   "source": [
    "## Perform Random Forest Regression"
   ]
  },
  {
   "cell_type": "code",
   "execution_count": null,
   "metadata": {},
   "outputs": [],
   "source": [
    "regressor1 = RandomForestRegressor(n_estimators= 100, max_depth= 4)\n",
    "\n",
    "cv1 = cross_val_score(regressor1,\n",
    "                    x_train,\n",
    "                    y_train,\n",
    "                    cv=10,\n",
    "                    scoring='roc_auc') #errors with this line??"
   ]
  },
  {
   "cell_type": "code",
   "execution_count": null,
   "metadata": {},
   "outputs": [],
   "source": [
    "cv1.mean()"
   ]
  },
  {
   "cell_type": "code",
   "execution_count": null,
   "metadata": {},
   "outputs": [],
   "source": [
    "importances1 = regressor1.feature_importances_\n",
    "for i in range(0,len(x_train.columns)):\n",
    "    print(f\"{x_train.columns[i]}:\\t{importances1[i]}\")"
   ]
  },
  {
   "attachments": {},
   "cell_type": "markdown",
   "metadata": {},
   "source": [
    "### Make Predictions"
   ]
  },
  {
   "cell_type": "code",
   "execution_count": null,
   "metadata": {},
   "outputs": [],
   "source": [
    "y_test_predicted = regressor1.predict(x_test)"
   ]
  },
  {
   "attachments": {},
   "cell_type": "markdown",
   "metadata": {},
   "source": [
    "## ROC Curve"
   ]
  },
  {
   "cell_type": "code",
   "execution_count": null,
   "metadata": {},
   "outputs": [],
   "source": [
    "# My code is broken for this lol"
   ]
  }
 ],
 "metadata": {
  "kernelspec": {
   "display_name": "Python 3",
   "language": "python",
   "name": "python3"
  },
  "language_info": {
   "codemirror_mode": {
    "name": "ipython",
    "version": 3
   },
   "file_extension": ".py",
   "mimetype": "text/x-python",
   "name": "python",
   "nbconvert_exporter": "python",
   "pygments_lexer": "ipython3",
   "version": "3.10.4"
  },
  "orig_nbformat": 4
 },
 "nbformat": 4,
 "nbformat_minor": 2
}
