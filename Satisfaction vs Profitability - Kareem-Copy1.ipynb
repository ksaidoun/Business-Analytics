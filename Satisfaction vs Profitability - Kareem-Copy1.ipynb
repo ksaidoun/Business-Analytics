{
 "cells": [
  {
   "cell_type": "code",
   "execution_count": 1,
   "metadata": {},
   "outputs": [],
   "source": [
    "import pandas as pd\n",
    "#Data manipulation\n",
    "import numpy as np\n",
    "#array\n",
    "import sklearn.linear_model as linear\n",
    "from sklearn.model_selection import train_test_split, cross_val_score\n",
    "# most important data science library\n",
    "import matplotlib.pyplot as plt\n",
    "#for graphs\n",
    "import seaborn as sns\n",
    "import pandas as pd\n",
    "import numpy as np"
   ]
  },
  {
   "cell_type": "markdown",
   "metadata": {},
   "source": [
    "Read data"
   ]
  },
  {
   "cell_type": "code",
   "execution_count": 2,
   "metadata": {},
   "outputs": [],
   "source": [
    "salaryData=pd.read_excel(\"salaries_clean.xlsx\")"
   ]
  },
  {
   "cell_type": "code",
   "execution_count": 3,
   "metadata": {},
   "outputs": [
    {
     "data": {
      "text/html": [
       "<div>\n",
       "<style scoped>\n",
       "    .dataframe tbody tr th:only-of-type {\n",
       "        vertical-align: middle;\n",
       "    }\n",
       "\n",
       "    .dataframe tbody tr th {\n",
       "        vertical-align: top;\n",
       "    }\n",
       "\n",
       "    .dataframe thead th {\n",
       "        text-align: right;\n",
       "    }\n",
       "</style>\n",
       "<table border=\"1\" class=\"dataframe\">\n",
       "  <thead>\n",
       "    <tr style=\"text-align: right;\">\n",
       "      <th></th>\n",
       "      <th>index</th>\n",
       "      <th>salary_id</th>\n",
       "      <th>location_latitude</th>\n",
       "      <th>location_longitude</th>\n",
       "      <th>total_experience_years</th>\n",
       "      <th>employer_experience_years</th>\n",
       "      <th>annual_base_pay</th>\n",
       "      <th>signing_bonus</th>\n",
       "      <th>annual_bonus</th>\n",
       "      <th>new_comments</th>\n",
       "    </tr>\n",
       "  </thead>\n",
       "  <tbody>\n",
       "    <tr>\n",
       "      <th>count</th>\n",
       "      <td>1655.000000</td>\n",
       "      <td>1655.000000</td>\n",
       "      <td>792.000000</td>\n",
       "      <td>792.000000</td>\n",
       "      <td>1608.000000</td>\n",
       "      <td>1608.000000</td>\n",
       "      <td>1.651000e+03</td>\n",
       "      <td>1.332000e+03</td>\n",
       "      <td>1.336000e+03</td>\n",
       "      <td>269.000000</td>\n",
       "    </tr>\n",
       "    <tr>\n",
       "      <th>mean</th>\n",
       "      <td>827.000000</td>\n",
       "      <td>1684.100906</td>\n",
       "      <td>37.754394</td>\n",
       "      <td>-64.712273</td>\n",
       "      <td>6.756113</td>\n",
       "      <td>2.656163</td>\n",
       "      <td>6.224326e+06</td>\n",
       "      <td>2.253313e+04</td>\n",
       "      <td>1.184656e+04</td>\n",
       "      <td>0.111524</td>\n",
       "    </tr>\n",
       "    <tr>\n",
       "      <th>std</th>\n",
       "      <td>477.901664</td>\n",
       "      <td>932.901390</td>\n",
       "      <td>16.740905</td>\n",
       "      <td>67.090364</td>\n",
       "      <td>5.687004</td>\n",
       "      <td>3.301834</td>\n",
       "      <td>2.461078e+08</td>\n",
       "      <td>3.098035e+05</td>\n",
       "      <td>6.921398e+04</td>\n",
       "      <td>0.769411</td>\n",
       "    </tr>\n",
       "    <tr>\n",
       "      <th>min</th>\n",
       "      <td>0.000000</td>\n",
       "      <td>1.000000</td>\n",
       "      <td>-41.000000</td>\n",
       "      <td>-123.270000</td>\n",
       "      <td>0.000000</td>\n",
       "      <td>0.000000</td>\n",
       "      <td>0.000000e+00</td>\n",
       "      <td>0.000000e+00</td>\n",
       "      <td>0.000000e+00</td>\n",
       "      <td>-1.000000</td>\n",
       "    </tr>\n",
       "    <tr>\n",
       "      <th>25%</th>\n",
       "      <td>413.500000</td>\n",
       "      <td>897.000000</td>\n",
       "      <td>37.410000</td>\n",
       "      <td>-102.702500</td>\n",
       "      <td>3.000000</td>\n",
       "      <td>1.000000</td>\n",
       "      <td>6.253400e+04</td>\n",
       "      <td>0.000000e+00</td>\n",
       "      <td>0.000000e+00</td>\n",
       "      <td>0.000000</td>\n",
       "    </tr>\n",
       "    <tr>\n",
       "      <th>50%</th>\n",
       "      <td>827.000000</td>\n",
       "      <td>1711.000000</td>\n",
       "      <td>38.580000</td>\n",
       "      <td>-95.000000</td>\n",
       "      <td>5.000000</td>\n",
       "      <td>2.000000</td>\n",
       "      <td>1.000000e+05</td>\n",
       "      <td>0.000000e+00</td>\n",
       "      <td>5.000000e+02</td>\n",
       "      <td>0.000000</td>\n",
       "    </tr>\n",
       "    <tr>\n",
       "      <th>75%</th>\n",
       "      <td>1240.500000</td>\n",
       "      <td>2477.000000</td>\n",
       "      <td>45.440000</td>\n",
       "      <td>-64.562500</td>\n",
       "      <td>10.000000</td>\n",
       "      <td>3.000000</td>\n",
       "      <td>1.300000e+05</td>\n",
       "      <td>5.000000e+03</td>\n",
       "      <td>1.000000e+04</td>\n",
       "      <td>1.000000</td>\n",
       "    </tr>\n",
       "    <tr>\n",
       "      <th>max</th>\n",
       "      <td>1654.000000</td>\n",
       "      <td>3298.000000</td>\n",
       "      <td>65.000000</td>\n",
       "      <td>174.000000</td>\n",
       "      <td>56.000000</td>\n",
       "      <td>58.000000</td>\n",
       "      <td>1.000000e+10</td>\n",
       "      <td>8.999999e+06</td>\n",
       "      <td>2.000000e+06</td>\n",
       "      <td>1.000000</td>\n",
       "    </tr>\n",
       "  </tbody>\n",
       "</table>\n",
       "</div>"
      ],
      "text/plain": [
       "             index    salary_id  location_latitude  location_longitude  \\\n",
       "count  1655.000000  1655.000000         792.000000          792.000000   \n",
       "mean    827.000000  1684.100906          37.754394          -64.712273   \n",
       "std     477.901664   932.901390          16.740905           67.090364   \n",
       "min       0.000000     1.000000         -41.000000         -123.270000   \n",
       "25%     413.500000   897.000000          37.410000         -102.702500   \n",
       "50%     827.000000  1711.000000          38.580000          -95.000000   \n",
       "75%    1240.500000  2477.000000          45.440000          -64.562500   \n",
       "max    1654.000000  3298.000000          65.000000          174.000000   \n",
       "\n",
       "       total_experience_years  employer_experience_years  annual_base_pay  \\\n",
       "count             1608.000000                1608.000000     1.651000e+03   \n",
       "mean                 6.756113                   2.656163     6.224326e+06   \n",
       "std                  5.687004                   3.301834     2.461078e+08   \n",
       "min                  0.000000                   0.000000     0.000000e+00   \n",
       "25%                  3.000000                   1.000000     6.253400e+04   \n",
       "50%                  5.000000                   2.000000     1.000000e+05   \n",
       "75%                 10.000000                   3.000000     1.300000e+05   \n",
       "max                 56.000000                  58.000000     1.000000e+10   \n",
       "\n",
       "       signing_bonus  annual_bonus  new_comments  \n",
       "count   1.332000e+03  1.336000e+03    269.000000  \n",
       "mean    2.253313e+04  1.184656e+04      0.111524  \n",
       "std     3.098035e+05  6.921398e+04      0.769411  \n",
       "min     0.000000e+00  0.000000e+00     -1.000000  \n",
       "25%     0.000000e+00  0.000000e+00      0.000000  \n",
       "50%     0.000000e+00  5.000000e+02      0.000000  \n",
       "75%     5.000000e+03  1.000000e+04      1.000000  \n",
       "max     8.999999e+06  2.000000e+06      1.000000  "
      ]
     },
     "execution_count": 3,
     "metadata": {},
     "output_type": "execute_result"
    }
   ],
   "source": [
    "salaryData.describe()"
   ]
  },
  {
   "cell_type": "code",
   "execution_count": 4,
   "metadata": {},
   "outputs": [
    {
     "name": "stdout",
     "output_type": "stream",
     "text": [
      "<class 'pandas.core.frame.DataFrame'>\n",
      "RangeIndex: 1655 entries, 0 to 1654\n",
      "Data columns (total 24 columns):\n",
      " #   Column                     Non-Null Count  Dtype  \n",
      "---  ------                     --------------  -----  \n",
      " 0   index                      1655 non-null   int64  \n",
      " 1   salary_id                  1655 non-null   int64  \n",
      " 2   employer_name              1651 non-null   object \n",
      " 3   Ticker                     564 non-null    object \n",
      " 4   location_name              1653 non-null   object \n",
      " 5   location_city              1386 non-null   object \n",
      " 6   location_state             1176 non-null   object \n",
      " 7   location_country           1582 non-null   object \n",
      " 8   location_latitude          792 non-null    float64\n",
      " 9   location_longitude         792 non-null    float64\n",
      " 10  job_title                  1655 non-null   object \n",
      " 11  job_title_category         1655 non-null   object \n",
      " 12  job_title_rank             425 non-null    object \n",
      " 13  total_experience_years     1608 non-null   float64\n",
      " 14  employer_experience_years  1608 non-null   float64\n",
      " 15  annual_base_pay            1651 non-null   float64\n",
      " 16  signing_bonus              1332 non-null   float64\n",
      " 17  annual_bonus               1336 non-null   float64\n",
      " 18  stock_value_bonus          1253 non-null   object \n",
      " 19  comments                   292 non-null    object \n",
      " 20  submitted_at               1655 non-null   object \n",
      " 21  delete?                    51 non-null     object \n",
      " 22  new_comments               269 non-null    float64\n",
      " 23  Profit                     549 non-null    object \n",
      "dtypes: float64(8), int64(2), object(14)\n",
      "memory usage: 310.4+ KB\n"
     ]
    }
   ],
   "source": [
    "salaryData.info()"
   ]
  },
  {
   "cell_type": "markdown",
   "metadata": {},
   "source": [
    "Remove all invalid entries from the dataset"
   ]
  },
  {
   "cell_type": "code",
   "execution_count": 5,
   "metadata": {},
   "outputs": [
    {
     "name": "stdout",
     "output_type": "stream",
     "text": [
      "<class 'pandas.core.frame.DataFrame'>\n",
      "Int64Index: 1616 entries, 1 to 1654\n",
      "Data columns (total 24 columns):\n",
      " #   Column                     Non-Null Count  Dtype  \n",
      "---  ------                     --------------  -----  \n",
      " 0   index                      1616 non-null   int64  \n",
      " 1   salary_id                  1616 non-null   int64  \n",
      " 2   employer_name              1612 non-null   object \n",
      " 3   Ticker                     560 non-null    object \n",
      " 4   location_name              1614 non-null   object \n",
      " 5   location_city              1370 non-null   object \n",
      " 6   location_state             1163 non-null   object \n",
      " 7   location_country           1563 non-null   object \n",
      " 8   location_latitude          783 non-null    float64\n",
      " 9   location_longitude         783 non-null    float64\n",
      " 10  job_title                  1616 non-null   object \n",
      " 11  job_title_category         1616 non-null   object \n",
      " 12  job_title_rank             422 non-null    object \n",
      " 13  total_experience_years     1573 non-null   float64\n",
      " 14  employer_experience_years  1574 non-null   float64\n",
      " 15  annual_base_pay            1616 non-null   float64\n",
      " 16  signing_bonus              1300 non-null   float64\n",
      " 17  annual_bonus               1304 non-null   float64\n",
      " 18  stock_value_bonus          1221 non-null   object \n",
      " 19  comments                   271 non-null    object \n",
      " 20  submitted_at               1616 non-null   object \n",
      " 21  delete?                    12 non-null     object \n",
      " 22  new_comments               267 non-null    float64\n",
      " 23  Profit                     545 non-null    object \n",
      "dtypes: float64(8), int64(2), object(14)\n",
      "memory usage: 315.6+ KB\n"
     ]
    }
   ],
   "source": [
    "salaryData=salaryData[salaryData['delete?']!='x']\n",
    "newData = salaryData\n",
    "salaryData.info()"
   ]
  },
  {
   "cell_type": "markdown",
   "metadata": {},
   "source": [
    "Descriptive analysis (compare the means)"
   ]
  },
  {
   "cell_type": "code",
   "execution_count": 6,
   "metadata": {},
   "outputs": [
    {
     "data": {
      "text/plain": [
       "<seaborn.axisgrid.FacetGrid at 0x2c4e4644430>"
      ]
     },
     "execution_count": 6,
     "metadata": {},
     "output_type": "execute_result"
    },
    {
     "data": {
      "image/png": "[encoded data removed]",
      "text/plain": [
       "<Figure size 705.986x500 with 1 Axes>"
      ]
     },
     "metadata": {},
     "output_type": "display_data"
    }
   ],
   "source": [
    "sns.displot(salaryData,x=\"new_comments\",hue=\"employer_experience_years\")"
   ]
  },
  {
   "cell_type": "markdown",
   "metadata": {},
   "source": [
    "Get the mean experienced years based on whether the comment was positive (1), neutral (0), or negative (-1)."
   ]
  },
  {
   "cell_type": "code",
   "execution_count": 7,
   "metadata": {},
   "outputs": [
    {
     "data": {
      "text/plain": [
       "new_comments\n",
       "-1.0    2.570000\n",
       " 0.0    2.089320\n",
       " 1.0    2.312872\n",
       "Name: employer_experience_years, dtype: float64"
      ]
     },
     "execution_count": 7,
     "metadata": {},
     "output_type": "execute_result"
    }
   ],
   "source": [
    "salaryData.groupby(['new_comments'])['employer_experience_years'].mean()"
   ]
  },
  {
   "cell_type": "code",
   "execution_count": 8,
   "metadata": {},
   "outputs": [
    {
     "data": {
      "text/plain": [
       "2.0893203883495146"
      ]
     },
     "execution_count": 8,
     "metadata": {},
     "output_type": "execute_result"
    }
   ],
   "source": [
    "salaryData.loc[salaryData[\"new_comments\"]==0][\"employer_experience_years\"].mean()"
   ]
  },
  {
   "cell_type": "code",
   "execution_count": 9,
   "metadata": {},
   "outputs": [
    {
     "data": {
      "text/plain": [
       "2.312872340425532"
      ]
     },
     "execution_count": 9,
     "metadata": {},
     "output_type": "execute_result"
    }
   ],
   "source": [
    "salaryData.loc[salaryData[\"new_comments\"]==1][\"employer_experience_years\"].mean()"
   ]
  },
  {
   "cell_type": "markdown",
   "metadata": {},
   "source": [
    "T-test for comparing the means"
   ]
  },
  {
   "cell_type": "code",
   "execution_count": 10,
   "metadata": {},
   "outputs": [],
   "source": [
    "import scipy.stats as stats"
   ]
  },
  {
   "cell_type": "code",
   "execution_count": 11,
   "metadata": {},
   "outputs": [
    {
     "data": {
      "text/plain": [
       "Ttest_indResult(statistic=nan, pvalue=nan)"
      ]
     },
     "execution_count": 11,
     "metadata": {},
     "output_type": "execute_result"
    }
   ],
   "source": [
    "stats.ttest_ind(a=salaryData.loc[salaryData[\"new_comments\"]==0][\"employer_experience_years\"], b=salaryData.loc[salaryData[\"new_comments\"]==1][\"employer_experience_years\"])"
   ]
  },
  {
   "cell_type": "markdown",
   "metadata": {},
   "source": [
    "Descriptive analysis with regression"
   ]
  },
  {
   "cell_type": "markdown",
   "metadata": {},
   "source": [
    "Model with online"
   ]
  },
  {
   "cell_type": "code",
   "execution_count": 12,
   "metadata": {},
   "outputs": [
    {
     "name": "stdout",
     "output_type": "stream",
     "text": [
      "<class 'pandas.core.frame.DataFrame'>\n",
      "Int64Index: 262 entries, 3 to 1651\n",
      "Data columns (total 24 columns):\n",
      " #   Column                     Non-Null Count  Dtype  \n",
      "---  ------                     --------------  -----  \n",
      " 0   index                      262 non-null    int64  \n",
      " 1   salary_id                  262 non-null    int64  \n",
      " 2   employer_name              261 non-null    object \n",
      " 3   Ticker                     87 non-null     object \n",
      " 4   location_name              261 non-null    object \n",
      " 5   location_city              223 non-null    object \n",
      " 6   location_state             186 non-null    object \n",
      " 7   location_country           255 non-null    object \n",
      " 8   location_latitude          146 non-null    float64\n",
      " 9   location_longitude         146 non-null    float64\n",
      " 10  job_title                  262 non-null    object \n",
      " 11  job_title_category         262 non-null    object \n",
      " 12  job_title_rank             66 non-null     object \n",
      " 13  total_experience_years     260 non-null    float64\n",
      " 14  employer_experience_years  262 non-null    float64\n",
      " 15  annual_base_pay            262 non-null    float64\n",
      " 16  signing_bonus              224 non-null    float64\n",
      " 17  annual_bonus               219 non-null    float64\n",
      " 18  stock_value_bonus          212 non-null    object \n",
      " 19  comments                   260 non-null    object \n",
      " 20  submitted_at               262 non-null    object \n",
      " 21  delete?                    3 non-null      object \n",
      " 22  new_comments               262 non-null    float64\n",
      " 23  Profit                     87 non-null     object \n",
      "dtypes: float64(8), int64(2), object(14)\n",
      "memory usage: 51.2+ KB\n"
     ]
    }
   ],
   "source": [
    "reg1=linear.LinearRegression()\n",
    "salaryData = salaryData[salaryData[\"new_comments\"].notna()]\n",
    "salaryData = salaryData[salaryData[\"employer_experience_years\"].notna()]\n",
    "reg1.fit(salaryData[\"new_comments\"].values.reshape(-1,1),salaryData[\"employer_experience_years\"].values.reshape(-1,1))\n",
    "salaryData.info()"
   ]
  },
  {
   "cell_type": "code",
   "execution_count": 13,
   "metadata": {},
   "outputs": [
    {
     "data": {
      "text/plain": [
       "0.0011584733785875434"
      ]
     },
     "execution_count": 13,
     "metadata": {},
     "output_type": "execute_result"
    }
   ],
   "source": [
    "reg1.score(salaryData[\"new_comments\"].values.reshape(-1,1),salaryData[\"employer_experience_years\"].values.reshape(-1,1))"
   ]
  },
  {
   "cell_type": "markdown",
   "metadata": {},
   "source": [
    "Note that SKlearn does not provide p values for the variables we should use another package"
   ]
  },
  {
   "cell_type": "code",
   "execution_count": 14,
   "metadata": {},
   "outputs": [],
   "source": [
    "import statsmodels.api as sm"
   ]
  },
  {
   "cell_type": "code",
   "execution_count": 15,
   "metadata": {},
   "outputs": [
    {
     "name": "stdout",
     "output_type": "stream",
     "text": [
      "                            OLS Regression Results                            \n",
      "==============================================================================\n",
      "Dep. Variable:                      y   R-squared:                       0.001\n",
      "Model:                            OLS   Adj. R-squared:                 -0.003\n",
      "Method:                 Least Squares   F-statistic:                    0.3016\n",
      "Date:                Mon, 10 Apr 2023   Prob (F-statistic):              0.583\n",
      "Time:                        12:34:27   Log-Likelihood:                -303.51\n",
      "No. Observations:                 262   AIC:                             611.0\n",
      "Df Residuals:                     260   BIC:                             618.2\n",
      "Df Model:                           1                                         \n",
      "Covariance Type:            nonrobust                                         \n",
      "==============================================================================\n",
      "                 coef    std err          t      P>|t|      [0.025      0.975]\n",
      "------------------------------------------------------------------------------\n",
      "const          0.1365      0.067      2.037      0.043       0.005       0.268\n",
      "x1            -0.0113      0.021     -0.549      0.583      -0.052       0.029\n",
      "==============================================================================\n",
      "Omnibus:                      267.086   Durbin-Watson:                   2.061\n",
      "Prob(Omnibus):                  0.000   Jarque-Bera (JB):               19.874\n",
      "Skew:                          -0.186   Prob(JB):                     4.84e-05\n",
      "Kurtosis:                       1.703   Cond. No.                         4.80\n",
      "==============================================================================\n",
      "\n",
      "Notes:\n",
      "[1] Standard Errors assume that the covariance matrix of the errors is correctly specified.\n"
     ]
    }
   ],
   "source": [
    "\n",
    "model=sm.OLS(salaryData[\"new_comments\"].values.reshape(-1,1),sm.add_constant(salaryData[\"employer_experience_years\"].values.reshape(-1,1)))\n",
    "model2=model.fit()\n",
    "print(model2.summary())"
   ]
  },
  {
   "cell_type": "markdown",
   "metadata": {},
   "source": [
    "model with all the other variables"
   ]
  },
  {
   "cell_type": "markdown",
   "metadata": {},
   "source": [
    "We had an error because of missing data"
   ]
  },
  {
   "cell_type": "markdown",
   "metadata": {},
   "source": [
    "Dealing with missing data stategy 1 remove them"
   ]
  },
  {
   "cell_type": "code",
   "execution_count": 16,
   "metadata": {},
   "outputs": [
    {
     "name": "stdout",
     "output_type": "stream",
     "text": [
      "<class 'pandas.core.frame.DataFrame'>\n",
      "Int64Index: 68 entries, 78 to 1617\n",
      "Data columns (total 24 columns):\n",
      " #   Column                     Non-Null Count  Dtype  \n",
      "---  ------                     --------------  -----  \n",
      " 0   index                      68 non-null     int64  \n",
      " 1   salary_id                  68 non-null     int64  \n",
      " 2   employer_name              68 non-null     object \n",
      " 3   Ticker                     68 non-null     object \n",
      " 4   location_name              67 non-null     object \n",
      " 5   location_city              65 non-null     object \n",
      " 6   location_state             68 non-null     object \n",
      " 7   location_country           68 non-null     object \n",
      " 8   location_latitude          31 non-null     float64\n",
      " 9   location_longitude         31 non-null     float64\n",
      " 10  job_title                  68 non-null     object \n",
      " 11  job_title_category         68 non-null     object \n",
      " 12  job_title_rank             24 non-null     object \n",
      " 13  total_experience_years     68 non-null     float64\n",
      " 14  employer_experience_years  68 non-null     float64\n",
      " 15  annual_base_pay            68 non-null     float64\n",
      " 16  signing_bonus              63 non-null     float64\n",
      " 17  annual_bonus               57 non-null     float64\n",
      " 18  stock_value_bonus          53 non-null     float64\n",
      " 19  comments                   67 non-null     object \n",
      " 20  submitted_at               68 non-null     object \n",
      " 21  delete?                    0 non-null      object \n",
      " 22  new_comments               68 non-null     float64\n",
      " 23  Profit                     68 non-null     float64\n",
      "dtypes: float64(10), int64(2), object(12)\n",
      "memory usage: 13.3+ KB\n"
     ]
    }
   ],
   "source": [
    "salaryData['Profit'] = salaryData['Profit'].apply(pd.to_numeric, errors='coerce').dropna()\n",
    "salaryData['stock_value_bonus'] = salaryData['stock_value_bonus'].apply(pd.to_numeric, errors='coerce').dropna()\n",
    "newdataset=salaryData.dropna(subset=[\"employer_name\", \"location_state\",\"total_experience_years\",\"employer_experience_years\",\"new_comments\",'Profit'])\n",
    "newdataset.info()"
   ]
  },
  {
   "cell_type": "code",
   "execution_count": 17,
   "metadata": {},
   "outputs": [
    {
     "name": "stdout",
     "output_type": "stream",
     "text": [
      "0.16971060528831838\n",
      "base model 0.8694520692501131\n"
     ]
    }
   ],
   "source": [
    "\n",
    "newdataset = salaryData.dropna(subset=[\"annual_base_pay\",\"annual_bonus\",\"signing_bonus\", \"stock_value_bonus\", \"Profit\"])\n",
    "x=newdataset[[\"total_experience_years\",\"employer_experience_years\",\"new_comments\"]].values\n",
    "y=newdataset[\"Profit\"].values\n",
    "x_train, x_test, y_train, y_test = train_test_split(x,\n",
    "                                                    y, \n",
    "                                                    test_size=0.2, \n",
    "                                                    random_state=0)\n",
    "reg2=linear.LinearRegression()\n",
    "reg2.fit(x_train,y_train)\n",
    "print(reg2.score(x_train,y_train))\n",
    "cv_score=cross_val_score(reg2, x_train, y_train, cv=10, scoring='r2')\n",
    "print('base model', -cv_score.mean())"
   ]
  },
  {
   "cell_type": "markdown",
   "metadata": {},
   "source": [
    "Handling the missing age and income data\n",
    "Strategy 1: delete rows with missing data\n",
    "Strategy 2: give default value to missing data (e.g., zero OR mean)\n",
    "Strategy 3: impute the missing data"
   ]
  },
  {
   "cell_type": "code",
   "execution_count": 18,
   "metadata": {},
   "outputs": [
    {
     "name": "stdout",
     "output_type": "stream",
     "text": [
      "                                 OLS Regression Results                                \n",
      "=======================================================================================\n",
      "Dep. Variable:                      y   R-squared (uncentered):                   0.396\n",
      "Model:                            OLS   Adj. R-squared (uncentered):              0.363\n",
      "Method:                 Least Squares   F-statistic:                              12.22\n",
      "Date:                Mon, 10 Apr 2023   Prob (F-statistic):                    2.94e-06\n",
      "Time:                        12:34:28   Log-Likelihood:                         -1526.4\n",
      "No. Observations:                  59   AIC:                                      3059.\n",
      "Df Residuals:                      56   BIC:                                      3065.\n",
      "Df Model:                           3                                                  \n",
      "Covariance Type:            nonrobust                                                  \n",
      "==============================================================================\n",
      "                 coef    std err          t      P>|t|      [0.025      0.975]\n",
      "------------------------------------------------------------------------------\n",
      "x1          1.538e+09   1.01e+09      1.521      0.134   -4.88e+08    3.56e+09\n",
      "x2          5.339e+09   2.96e+09      1.804      0.077   -5.88e+08    1.13e+10\n",
      "x3          2.033e+10   8.05e+09      2.525      0.014     4.2e+09    3.64e+10\n",
      "==============================================================================\n",
      "Omnibus:                        0.779   Durbin-Watson:                   0.944\n",
      "Prob(Omnibus):                  0.677   Jarque-Bera (JB):                0.827\n",
      "Skew:                           0.117   Prob(JB):                        0.661\n",
      "Kurtosis:                       2.469   Cond. No.                         11.6\n",
      "==============================================================================\n",
      "\n",
      "Notes:\n",
      "[1] R² is computed without centering (uncentered) since the model does not contain a constant.\n",
      "[2] Standard Errors assume that the covariance matrix of the errors is correctly specified.\n"
     ]
    }
   ],
   "source": [
    "model=sm.OLS(y,x)\n",
    "model2=model.fit()\n",
    "print(model2.summary())"
   ]
  },
  {
   "cell_type": "markdown",
   "metadata": {},
   "source": [
    "Quantitative"
   ]
  },
  {
   "cell_type": "code",
   "execution_count": 19,
   "metadata": {},
   "outputs": [
    {
     "name": "stdout",
     "output_type": "stream",
     "text": [
      "0.27245351271148954\n",
      "base model 0.8326682611210068\n"
     ]
    }
   ],
   "source": [
    "salaryData[\"annual_base_pay\"].fillna(salaryData[\"annual_base_pay\"].mean())\n",
    "salaryData[\"annual_bonus\"].fillna(salaryData[\"annual_bonus\"].mean())\n",
    "salaryData[\"signing_bonus\"].fillna(salaryData[\"signing_bonus\"].mean())\n",
    "salaryData[\"stock_value_bonus\"].fillna(salaryData[\"stock_value_bonus\"].mean())\n",
    "x=newdataset[[\"annual_base_pay\",\"annual_bonus\",\"signing_bonus\", \"stock_value_bonus\"]].values\n",
    "y=newdataset[\"Profit\"].values\n",
    "x_train, x_test, y_train, y_test = train_test_split(x,\n",
    "                                                    y, \n",
    "                                                    test_size=0.2, \n",
    "                                                    random_state=0)\n",
    "reg3=linear.LinearRegression()\n",
    "reg3.fit(x_train,y_train)\n",
    "print(reg3.score(x_train,y_train))\n",
    "cv_score=cross_val_score(reg3, x_train, y_train, cv=10, scoring='r2')\n",
    "print('base model', -cv_score.mean())"
   ]
  },
  {
   "cell_type": "code",
   "execution_count": 20,
   "metadata": {},
   "outputs": [
    {
     "name": "stdout",
     "output_type": "stream",
     "text": [
      "                                 OLS Regression Results                                \n",
      "=======================================================================================\n",
      "Dep. Variable:                      y   R-squared (uncentered):                   0.626\n",
      "Model:                            OLS   Adj. R-squared (uncentered):              0.599\n",
      "Method:                 Least Squares   F-statistic:                              23.06\n",
      "Date:                Mon, 10 Apr 2023   Prob (F-statistic):                    3.17e-11\n",
      "Time:                        12:34:28   Log-Likelihood:                         -1512.2\n",
      "No. Observations:                  59   AIC:                                      3032.\n",
      "Df Residuals:                      55   BIC:                                      3041.\n",
      "Df Model:                           4                                                  \n",
      "Covariance Type:            nonrobust                                                  \n",
      "==============================================================================\n",
      "                 coef    std err          t      P>|t|      [0.025      0.975]\n",
      "------------------------------------------------------------------------------\n",
      "x1           2.85e+05   6.48e+04      4.396      0.000    1.55e+05    4.15e+05\n",
      "x2          8.168e+05   4.26e+05      1.919      0.060   -3.62e+04    1.67e+06\n",
      "x3          3.017e+05   2.52e+05      1.199      0.236   -2.03e+05    8.06e+05\n",
      "x4         -3.157e+04   6.97e+04     -0.453      0.652   -1.71e+05    1.08e+05\n",
      "==============================================================================\n",
      "Omnibus:                        5.958   Durbin-Watson:                   1.060\n",
      "Prob(Omnibus):                  0.051   Jarque-Bera (JB):                2.690\n",
      "Skew:                           0.224   Prob(JB):                        0.261\n",
      "Kurtosis:                       2.054   Cond. No.                         11.7\n",
      "==============================================================================\n",
      "\n",
      "Notes:\n",
      "[1] R² is computed without centering (uncentered) since the model does not contain a constant.\n",
      "[2] Standard Errors assume that the covariance matrix of the errors is correctly specified.\n"
     ]
    }
   ],
   "source": [
    "model=sm.OLS(y,x)\n",
    "model2=model.fit()\n",
    "print(model2.summary())"
   ]
  }
 ],
 "metadata": {
  "kernelspec": {
   "display_name": "Python 3 (ipykernel)",
   "language": "python",
   "name": "python3"
  },
  "language_info": {
   "codemirror_mode": {
    "name": "ipython",
    "version": 3
   },
   "file_extension": ".py",
   "mimetype": "text/x-python",
   "name": "python",
   "nbconvert_exporter": "python",
   "pygments_lexer": "ipython3",
   "version": "3.9.13"
  }
 },
 "nbformat": 4,
 "nbformat_minor": 4
}
