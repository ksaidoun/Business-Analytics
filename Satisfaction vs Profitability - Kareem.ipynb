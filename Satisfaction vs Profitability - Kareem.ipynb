{
 "cells": [
  {
   "cell_type": "code",
   "execution_count": 1,
   "metadata": {},
   "outputs": [],
   "source": [
    "import pandas as pd\n",
    "#Data manipulation\n",
    "import numpy as np\n",
    "#array\n",
    "import sklearn.linear_model as linear\n",
    "from sklearn.model_selection import train_test_split, cross_val_score\n",
    "# most important data science library\n",
    "import matplotlib.pyplot as plt\n",
    "#for graphs\n",
    "import seaborn as sns\n",
    "import pandas as pd\n",
    "import numpy as np\n",
    "from sklearn.metrics import mean_squared_error\n"
   ]
  },
  {
   "cell_type": "markdown",
   "metadata": {},
   "source": [
    "Read data"
   ]
  },
  {
   "cell_type": "code",
   "execution_count": 2,
   "metadata": {},
   "outputs": [],
   "source": [
    "salaryData=pd.read_excel(\"salaries_clean.xlsx\")"
   ]
  },
  {
   "cell_type": "code",
   "execution_count": 3,
   "metadata": {},
   "outputs": [
    {
     "data": {
      "text/html": [
       "<div>\n",
       "<style scoped>\n",
       "    .dataframe tbody tr th:only-of-type {\n",
       "        vertical-align: middle;\n",
       "    }\n",
       "\n",
       "    .dataframe tbody tr th {\n",
       "        vertical-align: top;\n",
       "    }\n",
       "\n",
       "    .dataframe thead th {\n",
       "        text-align: right;\n",
       "    }\n",
       "</style>\n",
       "<table border=\"1\" class=\"dataframe\">\n",
       "  <thead>\n",
       "    <tr style=\"text-align: right;\">\n",
       "      <th></th>\n",
       "      <th>index</th>\n",
       "      <th>salary_id</th>\n",
       "      <th>location_latitude</th>\n",
       "      <th>location_longitude</th>\n",
       "      <th>total_experience_years</th>\n",
       "      <th>employer_experience_years</th>\n",
       "      <th>annual_base_pay</th>\n",
       "      <th>signing_bonus</th>\n",
       "      <th>annual_bonus</th>\n",
       "      <th>stock_value_bonus</th>\n",
       "      <th>new_comments</th>\n",
       "      <th>Profit</th>\n",
       "    </tr>\n",
       "  </thead>\n",
       "  <tbody>\n",
       "    <tr>\n",
       "      <th>count</th>\n",
       "      <td>1655.000000</td>\n",
       "      <td>1655.000000</td>\n",
       "      <td>792.000000</td>\n",
       "      <td>792.000000</td>\n",
       "      <td>1608.000000</td>\n",
       "      <td>1608.000000</td>\n",
       "      <td>1.651000e+03</td>\n",
       "      <td>1.332000e+03</td>\n",
       "      <td>1.336000e+03</td>\n",
       "      <td>1.206000e+03</td>\n",
       "      <td>269.000000</td>\n",
       "      <td>5.420000e+02</td>\n",
       "    </tr>\n",
       "    <tr>\n",
       "      <th>mean</th>\n",
       "      <td>827.000000</td>\n",
       "      <td>1684.100906</td>\n",
       "      <td>37.754394</td>\n",
       "      <td>-64.712273</td>\n",
       "      <td>6.756113</td>\n",
       "      <td>2.656163</td>\n",
       "      <td>6.224415e+06</td>\n",
       "      <td>2.253313e+04</td>\n",
       "      <td>1.184656e+04</td>\n",
       "      <td>6.575861e+04</td>\n",
       "      <td>0.111524</td>\n",
       "      <td>4.168953e+10</td>\n",
       "    </tr>\n",
       "    <tr>\n",
       "      <th>std</th>\n",
       "      <td>477.901664</td>\n",
       "      <td>932.901390</td>\n",
       "      <td>16.740905</td>\n",
       "      <td>67.090364</td>\n",
       "      <td>5.687004</td>\n",
       "      <td>3.301834</td>\n",
       "      <td>2.461078e+08</td>\n",
       "      <td>3.098035e+05</td>\n",
       "      <td>6.921398e+04</td>\n",
       "      <td>1.441860e+06</td>\n",
       "      <td>0.769411</td>\n",
       "      <td>3.500584e+10</td>\n",
       "    </tr>\n",
       "    <tr>\n",
       "      <th>min</th>\n",
       "      <td>0.000000</td>\n",
       "      <td>1.000000</td>\n",
       "      <td>-41.000000</td>\n",
       "      <td>-123.270000</td>\n",
       "      <td>0.000000</td>\n",
       "      <td>0.000000</td>\n",
       "      <td>0.000000e+00</td>\n",
       "      <td>0.000000e+00</td>\n",
       "      <td>0.000000e+00</td>\n",
       "      <td>0.000000e+00</td>\n",
       "      <td>-1.000000</td>\n",
       "      <td>3.240600e+04</td>\n",
       "    </tr>\n",
       "    <tr>\n",
       "      <th>25%</th>\n",
       "      <td>413.500000</td>\n",
       "      <td>897.000000</td>\n",
       "      <td>37.410000</td>\n",
       "      <td>-102.702500</td>\n",
       "      <td>3.000000</td>\n",
       "      <td>1.000000</td>\n",
       "      <td>6.253400e+04</td>\n",
       "      <td>0.000000e+00</td>\n",
       "      <td>0.000000e+00</td>\n",
       "      <td>0.000000e+00</td>\n",
       "      <td>0.000000</td>\n",
       "      <td>8.326000e+09</td>\n",
       "    </tr>\n",
       "    <tr>\n",
       "      <th>50%</th>\n",
       "      <td>827.000000</td>\n",
       "      <td>1711.000000</td>\n",
       "      <td>38.580000</td>\n",
       "      <td>-95.000000</td>\n",
       "      <td>5.000000</td>\n",
       "      <td>2.000000</td>\n",
       "      <td>1.000000e+05</td>\n",
       "      <td>0.000000e+00</td>\n",
       "      <td>5.000000e+02</td>\n",
       "      <td>0.000000e+00</td>\n",
       "      <td>0.000000</td>\n",
       "      <td>3.648800e+10</td>\n",
       "    </tr>\n",
       "    <tr>\n",
       "      <th>75%</th>\n",
       "      <td>1240.500000</td>\n",
       "      <td>2477.000000</td>\n",
       "      <td>45.440000</td>\n",
       "      <td>-64.562500</td>\n",
       "      <td>10.000000</td>\n",
       "      <td>3.000000</td>\n",
       "      <td>1.300000e+05</td>\n",
       "      <td>5.000000e+03</td>\n",
       "      <td>1.000000e+04</td>\n",
       "      <td>1.631250e+04</td>\n",
       "      <td>1.000000</td>\n",
       "      <td>8.293300e+10</td>\n",
       "    </tr>\n",
       "    <tr>\n",
       "      <th>max</th>\n",
       "      <td>1654.000000</td>\n",
       "      <td>3298.000000</td>\n",
       "      <td>65.000000</td>\n",
       "      <td>174.000000</td>\n",
       "      <td>56.000000</td>\n",
       "      <td>58.000000</td>\n",
       "      <td>1.000000e+10</td>\n",
       "      <td>8.999999e+06</td>\n",
       "      <td>2.000000e+06</td>\n",
       "      <td>5.000000e+07</td>\n",
       "      <td>1.000000</td>\n",
       "      <td>1.293590e+11</td>\n",
       "    </tr>\n",
       "  </tbody>\n",
       "</table>\n",
       "</div>"
      ],
      "text/plain": [
       "             index    salary_id  location_latitude  location_longitude  \\\n",
       "count  1655.000000  1655.000000         792.000000          792.000000   \n",
       "mean    827.000000  1684.100906          37.754394          -64.712273   \n",
       "std     477.901664   932.901390          16.740905           67.090364   \n",
       "min       0.000000     1.000000         -41.000000         -123.270000   \n",
       "25%     413.500000   897.000000          37.410000         -102.702500   \n",
       "50%     827.000000  1711.000000          38.580000          -95.000000   \n",
       "75%    1240.500000  2477.000000          45.440000          -64.562500   \n",
       "max    1654.000000  3298.000000          65.000000          174.000000   \n",
       "\n",
       "       total_experience_years  employer_experience_years  annual_base_pay  \\\n",
       "count             1608.000000                1608.000000     1.651000e+03   \n",
       "mean                 6.756113                   2.656163     6.224415e+06   \n",
       "std                  5.687004                   3.301834     2.461078e+08   \n",
       "min                  0.000000                   0.000000     0.000000e+00   \n",
       "25%                  3.000000                   1.000000     6.253400e+04   \n",
       "50%                  5.000000                   2.000000     1.000000e+05   \n",
       "75%                 10.000000                   3.000000     1.300000e+05   \n",
       "max                 56.000000                  58.000000     1.000000e+10   \n",
       "\n",
       "       signing_bonus  annual_bonus  stock_value_bonus  new_comments  \\\n",
       "count   1.332000e+03  1.336000e+03       1.206000e+03    269.000000   \n",
       "mean    2.253313e+04  1.184656e+04       6.575861e+04      0.111524   \n",
       "std     3.098035e+05  6.921398e+04       1.441860e+06      0.769411   \n",
       "min     0.000000e+00  0.000000e+00       0.000000e+00     -1.000000   \n",
       "25%     0.000000e+00  0.000000e+00       0.000000e+00      0.000000   \n",
       "50%     0.000000e+00  5.000000e+02       0.000000e+00      0.000000   \n",
       "75%     5.000000e+03  1.000000e+04       1.631250e+04      1.000000   \n",
       "max     8.999999e+06  2.000000e+06       5.000000e+07      1.000000   \n",
       "\n",
       "             Profit  \n",
       "count  5.420000e+02  \n",
       "mean   4.168953e+10  \n",
       "std    3.500584e+10  \n",
       "min    3.240600e+04  \n",
       "25%    8.326000e+09  \n",
       "50%    3.648800e+10  \n",
       "75%    8.293300e+10  \n",
       "max    1.293590e+11  "
      ]
     },
     "execution_count": 3,
     "metadata": {},
     "output_type": "execute_result"
    }
   ],
   "source": [
    "salaryData.describe()"
   ]
  },
  {
   "cell_type": "code",
   "execution_count": 4,
   "metadata": {},
   "outputs": [
    {
     "name": "stdout",
     "output_type": "stream",
     "text": [
      "<class 'pandas.core.frame.DataFrame'>\n",
      "RangeIndex: 1655 entries, 0 to 1654\n",
      "Data columns (total 24 columns):\n",
      " #   Column                     Non-Null Count  Dtype  \n",
      "---  ------                     --------------  -----  \n",
      " 0   index                      1655 non-null   int64  \n",
      " 1   salary_id                  1655 non-null   int64  \n",
      " 2   employer_name              1651 non-null   object \n",
      " 3   Ticker                     564 non-null    object \n",
      " 4   location_name              1653 non-null   object \n",
      " 5   location_city              1386 non-null   object \n",
      " 6   location_state             1176 non-null   object \n",
      " 7   location_country           1582 non-null   object \n",
      " 8   location_latitude          792 non-null    float64\n",
      " 9   location_longitude         792 non-null    float64\n",
      " 10  job_title                  1655 non-null   object \n",
      " 11  job_title_category         1655 non-null   object \n",
      " 12  job_title_rank             425 non-null    object \n",
      " 13  total_experience_years     1608 non-null   float64\n",
      " 14  employer_experience_years  1608 non-null   float64\n",
      " 15  annual_base_pay            1651 non-null   float64\n",
      " 16  signing_bonus              1332 non-null   float64\n",
      " 17  annual_bonus               1336 non-null   float64\n",
      " 18  stock_value_bonus          1206 non-null   float64\n",
      " 19  comments                   292 non-null    object \n",
      " 20  submitted_at               1655 non-null   object \n",
      " 21  delete?                    51 non-null     object \n",
      " 22  new_comments               269 non-null    float64\n",
      " 23  Profit                     542 non-null    float64\n",
      "dtypes: float64(10), int64(2), object(12)\n",
      "memory usage: 310.4+ KB\n"
     ]
    }
   ],
   "source": [
    "salaryData.info()"
   ]
  },
  {
   "cell_type": "markdown",
   "metadata": {},
   "source": [
    "Remove all invalid entries from the dataset"
   ]
  },
  {
   "cell_type": "code",
   "execution_count": 5,
   "metadata": {},
   "outputs": [
    {
     "name": "stdout",
     "output_type": "stream",
     "text": [
      "<class 'pandas.core.frame.DataFrame'>\n",
      "Int64Index: 1616 entries, 0 to 1654\n",
      "Data columns (total 24 columns):\n",
      " #   Column                     Non-Null Count  Dtype  \n",
      "---  ------                     --------------  -----  \n",
      " 0   index                      1616 non-null   int64  \n",
      " 1   salary_id                  1616 non-null   int64  \n",
      " 2   employer_name              1612 non-null   object \n",
      " 3   Ticker                     560 non-null    object \n",
      " 4   location_name              1614 non-null   object \n",
      " 5   location_city              1370 non-null   object \n",
      " 6   location_state             1163 non-null   object \n",
      " 7   location_country           1563 non-null   object \n",
      " 8   location_latitude          783 non-null    float64\n",
      " 9   location_longitude         783 non-null    float64\n",
      " 10  job_title                  1616 non-null   object \n",
      " 11  job_title_category         1616 non-null   object \n",
      " 12  job_title_rank             422 non-null    object \n",
      " 13  total_experience_years     1573 non-null   float64\n",
      " 14  employer_experience_years  1574 non-null   float64\n",
      " 15  annual_base_pay            1616 non-null   float64\n",
      " 16  signing_bonus              1300 non-null   float64\n",
      " 17  annual_bonus               1304 non-null   float64\n",
      " 18  stock_value_bonus          1178 non-null   float64\n",
      " 19  comments                   271 non-null    object \n",
      " 20  submitted_at               1616 non-null   object \n",
      " 21  delete?                    12 non-null     object \n",
      " 22  new_comments               267 non-null    float64\n",
      " 23  Profit                     538 non-null    float64\n",
      "dtypes: float64(10), int64(2), object(12)\n",
      "memory usage: 315.6+ KB\n"
     ]
    }
   ],
   "source": [
    "salaryData=salaryData[salaryData['delete?']!='x']\n",
    "newData = salaryData\n",
    "salaryData.info()"
   ]
  },
  {
   "cell_type": "markdown",
   "metadata": {},
   "source": [
    "Descriptive analysis (compare the means)"
   ]
  },
  {
   "cell_type": "code",
   "execution_count": 6,
   "metadata": {},
   "outputs": [
    {
     "data": {
      "text/plain": [
       "<seaborn.axisgrid.FacetGrid at 0x113a9788e20>"
      ]
     },
     "execution_count": 6,
     "metadata": {},
     "output_type": "execute_result"
    },
    {
     "data": {
      "image/png": "[encoded data removed]",
      "text/plain": [
       "<Figure size 705.986x500 with 1 Axes>"
      ]
     },
     "metadata": {},
     "output_type": "display_data"
    }
   ],
   "source": [
    "sns.displot(salaryData,x=\"new_comments\",hue=\"employer_experience_years\")"
   ]
  },
  {
   "cell_type": "markdown",
   "metadata": {},
   "source": [
    "Get the mean experienced years based on whether the comment was positive (1), neutral (0), or negative (-1)."
   ]
  },
  {
   "cell_type": "code",
   "execution_count": 7,
   "metadata": {},
   "outputs": [
    {
     "data": {
      "text/plain": [
       "new_comments\n",
       "-1.0    2.570000\n",
       " 0.0    2.089320\n",
       " 1.0    2.312872\n",
       "Name: employer_experience_years, dtype: float64"
      ]
     },
     "execution_count": 7,
     "metadata": {},
     "output_type": "execute_result"
    }
   ],
   "source": [
    "salaryData.groupby(['new_comments'])['employer_experience_years'].mean()"
   ]
  },
  {
   "cell_type": "code",
   "execution_count": 8,
   "metadata": {},
   "outputs": [
    {
     "data": {
      "text/plain": [
       "2.0893203883495146"
      ]
     },
     "execution_count": 8,
     "metadata": {},
     "output_type": "execute_result"
    }
   ],
   "source": [
    "salaryData.loc[salaryData[\"new_comments\"]==0][\"employer_experience_years\"].mean()"
   ]
  },
  {
   "cell_type": "code",
   "execution_count": 9,
   "metadata": {},
   "outputs": [
    {
     "data": {
      "text/plain": [
       "2.312872340425532"
      ]
     },
     "execution_count": 9,
     "metadata": {},
     "output_type": "execute_result"
    }
   ],
   "source": [
    "salaryData.loc[salaryData[\"new_comments\"]==1][\"employer_experience_years\"].mean()"
   ]
  },
  {
   "cell_type": "markdown",
   "metadata": {},
   "source": [
    "T-test for comparing the means"
   ]
  },
  {
   "cell_type": "code",
   "execution_count": 10,
   "metadata": {},
   "outputs": [],
   "source": [
    "import scipy.stats as stats"
   ]
  },
  {
   "cell_type": "code",
   "execution_count": 11,
   "metadata": {},
   "outputs": [
    {
     "data": {
      "text/plain": [
       "Ttest_indResult(statistic=nan, pvalue=nan)"
      ]
     },
     "execution_count": 11,
     "metadata": {},
     "output_type": "execute_result"
    }
   ],
   "source": [
    "stats.ttest_ind(a=salaryData.loc[salaryData[\"new_comments\"]==0][\"employer_experience_years\"], b=salaryData.loc[salaryData[\"new_comments\"]==1][\"employer_experience_years\"])"
   ]
  },
  {
   "cell_type": "markdown",
   "metadata": {},
   "source": [
    "Descriptive analysis with regression"
   ]
  },
  {
   "cell_type": "markdown",
   "metadata": {},
   "source": [
    "Model with online"
   ]
  },
  {
   "cell_type": "code",
   "execution_count": 12,
   "metadata": {},
   "outputs": [],
   "source": [
    "#reg1=linear.LinearRegression()\n",
    "newdataset = salaryData\n",
    "salaryData = salaryData[salaryData[\"new_comments\"].notna()]\n",
    "salaryData = salaryData[salaryData[\"employer_experience_years\"].notna()]\n",
    "#reg1.fit(salaryData[\"new_comments\"].values.reshape(-1,1),salaryData[\"employer_experience_years\"].values.reshape(-1,1))\n",
    "#salaryData.info()"
   ]
  },
  {
   "cell_type": "code",
   "execution_count": 13,
   "metadata": {},
   "outputs": [],
   "source": [
    "#reg1.score(salaryData[\"new_comments\"].values.reshape(-1,1),salaryData[\"employer_experience_years\"].values.reshape(-1,1))"
   ]
  },
  {
   "cell_type": "markdown",
   "metadata": {},
   "source": [
    "Note that SKlearn does not provide p values for the variables we should use another package"
   ]
  },
  {
   "cell_type": "code",
   "execution_count": 14,
   "metadata": {},
   "outputs": [],
   "source": [
    "import statsmodels.api as sm"
   ]
  },
  {
   "cell_type": "code",
   "execution_count": 15,
   "metadata": {},
   "outputs": [],
   "source": [
    "\n",
    "#model=sm.OLS(salaryData[\"new_comments\"].values.reshape(-1,1),sm.add_constant(salaryData[\"employer_experience_years\"].values.reshape(-1,1)))\n",
    "#model2=model.fit()\n",
    "#print(model2.summary())"
   ]
  },
  {
   "cell_type": "markdown",
   "metadata": {},
   "source": [
    "model with all the other variables"
   ]
  },
  {
   "cell_type": "markdown",
   "metadata": {},
   "source": [
    "We had an error because of missing data"
   ]
  },
  {
   "cell_type": "markdown",
   "metadata": {},
   "source": [
    "Dealing with missing data (remove n/a)"
   ]
  },
  {
   "cell_type": "code",
   "execution_count": 16,
   "metadata": {},
   "outputs": [
    {
     "name": "stdout",
     "output_type": "stream",
     "text": [
      "<class 'pandas.core.frame.DataFrame'>\n",
      "Int64Index: 262 entries, 3 to 1650\n",
      "Data columns (total 24 columns):\n",
      " #   Column                     Non-Null Count  Dtype  \n",
      "---  ------                     --------------  -----  \n",
      " 0   index                      262 non-null    int64  \n",
      " 1   salary_id                  262 non-null    int64  \n",
      " 2   employer_name              261 non-null    object \n",
      " 3   Ticker                     87 non-null     object \n",
      " 4   location_name              261 non-null    object \n",
      " 5   location_city              223 non-null    object \n",
      " 6   location_state             186 non-null    object \n",
      " 7   location_country           255 non-null    object \n",
      " 8   location_latitude          146 non-null    float64\n",
      " 9   location_longitude         146 non-null    float64\n",
      " 10  job_title                  262 non-null    object \n",
      " 11  job_title_category         262 non-null    object \n",
      " 12  job_title_rank             66 non-null     object \n",
      " 13  total_experience_years     260 non-null    float64\n",
      " 14  employer_experience_years  262 non-null    float64\n",
      " 15  annual_base_pay            262 non-null    float64\n",
      " 16  signing_bonus              224 non-null    float64\n",
      " 17  annual_bonus               219 non-null    float64\n",
      " 18  stock_value_bonus          199 non-null    float64\n",
      " 19  comments                   260 non-null    object \n",
      " 20  submitted_at               262 non-null    object \n",
      " 21  delete?                    3 non-null      object \n",
      " 22  new_comments               262 non-null    float64\n",
      " 23  Profit                     87 non-null     float64\n",
      "dtypes: float64(10), int64(2), object(12)\n",
      "memory usage: 51.2+ KB\n"
     ]
    }
   ],
   "source": [
    "salaryData['Profit'] = salaryData['Profit'].apply(pd.to_numeric, errors='coerce').dropna()\n",
    "salaryData['stock_value_bonus'] = salaryData['stock_value_bonus'].apply(pd.to_numeric, errors='coerce').dropna()\n",
    "salaryData['Profit'] = salaryData['Profit'].apply(pd.to_numeric, errors='coerce').dropna()\n",
    "salaryData.info()"
   ]
  },
  {
   "cell_type": "code",
   "execution_count": 17,
   "metadata": {},
   "outputs": [
    {
     "name": "stdout",
     "output_type": "stream",
     "text": [
      "Training error:\n",
      "MSE: 9.114188093326087e+20\n",
      "RMSE: 30189713634.49161\n"
     ]
    }
   ],
   "source": [
    "#salaryData = salaryData.dropna(subset=[\"annual_base_pay\",\"annual_bonus\",\"signing_bonus\", \"stock_value_bonus\", \"Profit\"])\n",
    "salaryData = salaryData[salaryData[\"Profit\"].notna()]\n",
    "salaryData = salaryData[salaryData[\"total_experience_years\"].notna()]\n",
    "salaryData = salaryData[salaryData[\"employer_experience_years\"].notna()]\n",
    "salaryData = salaryData[salaryData[\"new_comments\"].notna()]\n",
    "x=salaryData[[\"total_experience_years\",\"employer_experience_years\",\"new_comments\"]].values\n",
    "y=salaryData[\"Profit\"].values\n",
    "x_train, x_test, y_train, y_test = train_test_split(x,\n",
    "                                                    y, \n",
    "                                                    test_size=0.2, \n",
    "                                                    random_state=0)\n",
    "reg2=linear.LinearRegression()\n",
    "reg2.fit(x_train,y_train)\n",
    "#print(reg2.score(x_train,y_train))\n",
    "cv_score=cross_val_score(reg2, x_train, y_train, cv=10, scoring='r2')\n",
    "#print('base model', np.mean(cv_score))\n",
    "# Make predictions on training data\n",
    "y_pred_train = reg2.predict(x_train)\n",
    "\n",
    "# Calculate training error\n",
    "mse_train = mean_squared_error(y_train, y_pred_train)\n",
    "rmse_train = np.sqrt(mse_train)\n",
    "r2_train = reg2.score(x_train, y_train)\n",
    "print('Training error:')\n",
    "print('MSE:', mse_train)\n",
    "print('RMSE:', rmse_train)"
   ]
  },
  {
   "cell_type": "markdown",
   "metadata": {
    "tags": []
   },
   "source": [
    "Ordinary least square regression results of the model"
   ]
  },
  {
   "cell_type": "code",
   "execution_count": 18,
   "metadata": {},
   "outputs": [
    {
     "name": "stdout",
     "output_type": "stream",
     "text": [
      "                                 OLS Regression Results                                \n",
      "=======================================================================================\n",
      "Dep. Variable:                      y   R-squared (uncentered):                   0.413\n",
      "Model:                            OLS   Adj. R-squared (uncentered):              0.386\n",
      "Method:                 Least Squares   F-statistic:                              15.24\n",
      "Date:                Mon, 10 Apr 2023   Prob (F-statistic):                    1.30e-07\n",
      "Time:                        20:16:13   Log-Likelihood:                         -1753.8\n",
      "No. Observations:                  68   AIC:                                      3514.\n",
      "Df Residuals:                      65   BIC:                                      3520.\n",
      "Df Model:                           3                                                  \n",
      "Covariance Type:            nonrobust                                                  \n",
      "==============================================================================\n",
      "                 coef    std err          t      P>|t|      [0.025      0.975]\n",
      "------------------------------------------------------------------------------\n",
      "x1          5.509e+08   7.82e+08      0.704      0.484   -1.01e+09    2.11e+09\n",
      "x2          5.175e+09   2.16e+09      2.401      0.019    8.71e+08    9.48e+09\n",
      "x3          2.415e+10    6.3e+09      3.830      0.000    1.16e+10    3.67e+10\n",
      "==============================================================================\n",
      "Omnibus:                        1.816   Durbin-Watson:                   1.656\n",
      "Prob(Omnibus):                  0.403   Jarque-Bera (JB):                1.277\n",
      "Skew:                          -0.036   Prob(JB):                        0.528\n",
      "Kurtosis:                       2.332   Cond. No.                         11.9\n",
      "==============================================================================\n",
      "\n",
      "Notes:\n",
      "[1] R² is computed without centering (uncentered) since the model does not contain a constant.\n",
      "[2] Standard Errors assume that the covariance matrix of the errors is correctly specified.\n"
     ]
    }
   ],
   "source": [
    "model=sm.OLS(y_train,x_train)\n",
    "model2=model.fit()\n",
    "print(model2.summary())"
   ]
  },
  {
   "cell_type": "markdown",
   "metadata": {},
   "source": [
    "Create a graph to compare the predicted vs true target values of Model A"
   ]
  },
  {
   "cell_type": "code",
   "execution_count": 19,
   "metadata": {},
   "outputs": [
    {
     "data": {
      "image/png": "[encoded data removed]",
      "text/plain": [
       "<Figure size 640x480 with 1 Axes>"
      ]
     },
     "metadata": {},
     "output_type": "display_data"
    }
   ],
   "source": [
    "y_pred = reg2.predict(x_test)\n",
    "min_value = min(np.min(y_test), np.min(y_pred)) * .1\n",
    "max_value = max(np.max(y_test), np.max(y_pred)) * 1.1\n",
    "max_value_x = np.max(y_test) * 1.1\n",
    "max_value_y = np.max(y_pred) * 1.1\n",
    "slope, intercept = np.polyfit(y_test, y_pred, 1) \n",
    "line = slope * np.array(y_test) + intercept\n",
    "plt.scatter(y_test, y_pred, alpha=0.5, label=None) \n",
    "plt.plot(y_test, line, color='red', linestyle='--') \n",
    "plt.xlabel(\"True Target Value\") \n",
    "plt.ylabel(\"Predicted Target Value\") \n",
    "plt.xlim([min_value, max_value_x]) \n",
    "plt.ylim([min_value, max_value_y]) \n",
    "plt.title(\"Model A Predicted Target Value vs True Target Value\") \n",
    "plt.show()"
   ]
  },
  {
   "cell_type": "markdown",
   "metadata": {},
   "source": [
    "Quantitative"
   ]
  },
  {
   "cell_type": "code",
   "execution_count": 20,
   "metadata": {},
   "outputs": [
    {
     "name": "stdout",
     "output_type": "stream",
     "text": [
      "<class 'pandas.core.frame.DataFrame'>\n",
      "Int64Index: 358 entries, 2 to 542\n",
      "Data columns (total 24 columns):\n",
      " #   Column                     Non-Null Count  Dtype  \n",
      "---  ------                     --------------  -----  \n",
      " 0   index                      358 non-null    int64  \n",
      " 1   salary_id                  358 non-null    int64  \n",
      " 2   employer_name              357 non-null    object \n",
      " 3   Ticker                     357 non-null    object \n",
      " 4   location_name              357 non-null    object \n",
      " 5   location_city              320 non-null    object \n",
      " 6   location_state             305 non-null    object \n",
      " 7   location_country           351 non-null    object \n",
      " 8   location_latitude          149 non-null    float64\n",
      " 9   location_longitude         149 non-null    float64\n",
      " 10  job_title                  358 non-null    object \n",
      " 11  job_title_category         358 non-null    object \n",
      " 12  job_title_rank             117 non-null    object \n",
      " 13  total_experience_years     354 non-null    float64\n",
      " 14  employer_experience_years  353 non-null    float64\n",
      " 15  annual_base_pay            358 non-null    float64\n",
      " 16  signing_bonus              358 non-null    float64\n",
      " 17  annual_bonus               358 non-null    float64\n",
      " 18  stock_value_bonus          358 non-null    float64\n",
      " 19  comments                   64 non-null     object \n",
      " 20  submitted_at               358 non-null    object \n",
      " 21  delete?                    0 non-null      object \n",
      " 22  new_comments               64 non-null     float64\n",
      " 23  Profit                     358 non-null    float64\n",
      "dtypes: float64(10), int64(2), object(12)\n",
      "memory usage: 69.9+ KB\n"
     ]
    }
   ],
   "source": [
    "newdataset['Profit'] = newdataset['Profit'].apply(pd.to_numeric, errors='coerce')\n",
    "newdataset['stock_value_bonus'] = newdataset['stock_value_bonus'].apply(pd.to_numeric, errors='coerce')\n",
    "newdataset['annual_base_pay'] = newdataset['annual_base_pay'].apply(pd.to_numeric, errors='coerce')\n",
    "newdataset['annual_bonus'] = newdataset['annual_bonus'].apply(pd.to_numeric, errors='coerce')\n",
    "newdataset['signing_bonus'] = newdataset['signing_bonus'].apply(pd.to_numeric, errors='coerce')\n",
    "newdataset[\"annual_base_pay\"].fillna(newdataset[\"annual_base_pay\"].mean())\n",
    "newdataset[\"annual_bonus\"].fillna(newdataset[\"annual_bonus\"].mean())\n",
    "newdataset[\"signing_bonus\"].fillna(newdataset[\"signing_bonus\"].mean())\n",
    "newdataset[\"stock_value_bonus\"].fillna(newdataset[\"stock_value_bonus\"].mean())\n",
    "newdataset = newdataset.dropna(subset=[\"annual_base_pay\",\"annual_bonus\",\"signing_bonus\", \"stock_value_bonus\", \"Profit\"])\n",
    "newdataset[\"Profit\"].fillna(newdataset[\"Profit\"].mean())\n",
    "newdataset.info()"
   ]
  },
  {
   "cell_type": "code",
   "execution_count": 21,
   "metadata": {},
   "outputs": [
    {
     "name": "stdout",
     "output_type": "stream",
     "text": [
      "Training error:\n",
      "MSE: 1.1801135804134144e+21\n",
      "RMSE: 34352781261.68847\n"
     ]
    }
   ],
   "source": [
    "x=newdataset[[\"annual_base_pay\",\"annual_bonus\",\"signing_bonus\", \"stock_value_bonus\"]].values\n",
    "y=newdataset[\"Profit\"].values\n",
    "x_train, x_test, y_train, y_test = train_test_split(x,\n",
    "                                                    y, \n",
    "                                                    test_size=0.2, \n",
    "                                                    random_state=0)\n",
    "reg3=linear.LinearRegression()\n",
    "reg3.fit(x_train,y_train)\n",
    "cv_score=cross_val_score(reg3, x_train, y_train, cv=10, scoring='r2')\n",
    "\n",
    "# Make predictions on training data\n",
    "y_pred_train = reg3.predict(x_train)\n",
    "\n",
    "# Calculate training error\n",
    "mse_train = mean_squared_error(y_train, y_pred_train)\n",
    "rmse_train = np.sqrt(mse_train)\n",
    "r2_train = reg3.score(x_train, y_train)\n",
    "print('Training error:')\n",
    "print('MSE:', mse_train)\n",
    "print('RMSE:', rmse_train)"
   ]
  },
  {
   "cell_type": "code",
   "execution_count": 22,
   "metadata": {},
   "outputs": [
    {
     "name": "stdout",
     "output_type": "stream",
     "text": [
      "                                 OLS Regression Results                                \n",
      "=======================================================================================\n",
      "Dep. Variable:                      y   R-squared (uncentered):                   0.590\n",
      "Model:                            OLS   Adj. R-squared (uncentered):              0.584\n",
      "Method:                 Least Squares   F-statistic:                              101.4\n",
      "Date:                Mon, 10 Apr 2023   Prob (F-statistic):                    2.27e-53\n",
      "Time:                        20:16:13   Log-Likelihood:                         -7356.7\n",
      "No. Observations:                 286   AIC:                                  1.472e+04\n",
      "Df Residuals:                     282   BIC:                                  1.474e+04\n",
      "Df Model:                           4                                                  \n",
      "Covariance Type:            nonrobust                                                  \n",
      "==============================================================================\n",
      "                 coef    std err          t      P>|t|      [0.025      0.975]\n",
      "------------------------------------------------------------------------------\n",
      "x1          3.253e+05   2.44e+04     13.307      0.000    2.77e+05    3.73e+05\n",
      "x2         -4.391e+04   5.01e+04     -0.877      0.381   -1.42e+05    5.47e+04\n",
      "x3          2.401e+05   8.44e+04      2.845      0.005     7.4e+04    4.06e+05\n",
      "x4         -3.743e+04   2.83e+04     -1.323      0.187   -9.31e+04    1.82e+04\n",
      "==============================================================================\n",
      "Omnibus:                       20.711   Durbin-Watson:                   1.920\n",
      "Prob(Omnibus):                  0.000   Jarque-Bera (JB):               10.863\n",
      "Skew:                           0.296   Prob(JB):                      0.00438\n",
      "Kurtosis:                       2.251   Cond. No.                         5.76\n",
      "==============================================================================\n",
      "\n",
      "Notes:\n",
      "[1] R² is computed without centering (uncentered) since the model does not contain a constant.\n",
      "[2] Standard Errors assume that the covariance matrix of the errors is correctly specified.\n"
     ]
    }
   ],
   "source": [
    "model=sm.OLS(y_train,x_train)\n",
    "model2=model.fit()\n",
    "print(model2.summary())"
   ]
  },
  {
   "cell_type": "markdown",
   "metadata": {},
   "source": [
    "Create a graph to compare the Predicted vs True target values for Model B."
   ]
  },
  {
   "cell_type": "code",
   "execution_count": 23,
   "metadata": {},
   "outputs": [
    {
     "data": {
      "image/png": "[encoded data removed]",
      "text/plain": [
       "<Figure size 640x480 with 1 Axes>"
      ]
     },
     "metadata": {},
     "output_type": "display_data"
    }
   ],
   "source": [
    "y_pred = reg3.predict(x_test)\n",
    "min_value = min(np.min(y_test), np.min(y_pred)) * .1\n",
    "max_value = max(np.max(y_test), np.max(y_pred)) * 1.1\n",
    "max_value_x = np.max(y_test) * 1.1\n",
    "max_value_y = np.max(y_pred) * 1.1\n",
    "slope, intercept = np.polyfit(y_test, y_pred, 1) \n",
    "line = slope * np.array(y_test) + intercept\n",
    "plt.scatter(y_test, y_pred, alpha=0.5, label=None) \n",
    "plt.plot(y_test, line, color='red', linestyle='--') \n",
    "plt.xlabel(\"True Target Value\") \n",
    "plt.ylabel(\"Predicted Target Value\") \n",
    "plt.xlim([min_value, max_value_x]) \n",
    "plt.ylim([min_value, max_value_y]) \n",
    "plt.title(\"Model B: Predicted vs. True Target Values\") \n",
    "plt.show()"
   ]
  }
 ],
 "metadata": {
  "kernelspec": {
   "display_name": "Python 3 (ipykernel)",
   "language": "python",
   "name": "python3"
  },
  "language_info": {
   "codemirror_mode": {
    "name": "ipython",
    "version": 3
   },
   "file_extension": ".py",
   "mimetype": "text/x-python",
   "name": "python",
   "nbconvert_exporter": "python",
   "pygments_lexer": "ipython3",
   "version": "3.9.13"
  }
 },
 "nbformat": 4,
 "nbformat_minor": 4
}
